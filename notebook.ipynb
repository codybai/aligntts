{
 "cells": [
  {
   "cell_type": "code",
   "execution_count": null,
   "metadata": {},
   "outputs": [],
   "source": [
    "%%javascript\n",
    "IPython.OutputArea.prototype._should_scroll = function(lines) {\n",
    "    return false;\n",
    "}"
   ]
  },
  {
   "cell_type": "code",
   "execution_count": null,
   "metadata": {},
   "outputs": [],
   "source": [
    "import matplotlib.pyplot as plt\n",
    "\n",
    "import re\n",
    "import numpy as np\n",
    "from pathlib import Path\n",
    "\n",
    "%matplotlib inline"
   ]
  },
  {
   "cell_type": "code",
   "execution_count": null,
   "metadata": {},
   "outputs": [],
   "source": [
    "#LJ001-0004\n",
    "#@ __p__r__o__d__u__c__e__d__ __t__h__e__ __b__l__o__c__k__ __b__o__o__k__s__,__ __w__h__i__c__h__ __w__e__r__e__ __t__h__e__ __i__m__m__e__d__i__a__t__e__ __p__r__e__d__e__c__e__s__s__o__r__s__ __o__f__ __t__h__e__ __t__r__u__e__ __p__r__i__n__t__e__d__ __b__o__o__k__,__.\n",
    "#@01 04 01 03 02 03 04 34 01 01 02 05 01 16 03 03 08 01 01 01 12 04 05 23 15 01 05 01 01 01 07 01 11 01 01 01 17 01 08 02 22 03 01 03 06 04 15 01 01 11 05 01 01 01 01 01 01 05 01 03 06 01 07 06 12 04 08 01 13 08 03 01 11 03 01 05 03 01 01 02 02 05 01 01 16 01 11 06 01 01 01\n",
    "file_name = 'waveglow/log_alpha/LJ001-0004.npy'\n",
    "\n",
    "with open(file_name, 'rb') as f:\n",
    "    alpha = np.load(f)\n",
    "    \n",
    "alpha_norm = alpha - np.min(alpha, axis=1, keepdims=True)\n",
    "\n",
    "fig = plt.figure(figsize=(24,48))\n",
    "plt.title('Alpha Map: ' + file_name)\n",
    "plt.ylabel('t - mel frames')\n",
    "plt.xlabel('State - input characters')\n",
    "plt.imshow(alpha_norm, cmap='hot', interpolation='nearest')\n",
    "plt.show()"
   ]
  },
  {
   "cell_type": "code",
   "execution_count": null,
   "metadata": {
    "scrolled": true
   },
   "outputs": [],
   "source": [
    "#LJ001-0004\n",
    "#@ __p__r__o__d__u__c__e__d__ __t__h__e__ __b__l__o__c__k__ __b__o__o__k__s__,__ __w__h__i__c__h__ __w__e__r__e__ __t__h__e__ __i__m__m__e__d__i__a__t__e__ __p__r__e__d__e__c__e__s__s__o__r__s__ __o__f__ __t__h__e__ __t__r__u__e__ __p__r__i__n__t__e__d__ __b__o__o__k__,__.\n",
    "#@01 04 01 03 02 03 04 34 01 01 02 05 01 16 03 03 08 01 01 01 12 04 05 23 15 01 05 01 01 01 07 01 11 01 01 01 17 01 08 02 22 03 01 03 06 04 15 01 01 11 05 01 01 01 01 01 01 05 01 03 06 01 07 06 12 04 08 01 13 08 03 01 11 03 01 05 03 01 01 02 02 05 01 01 16 01 11 06 01 01 01\n",
    "file_name = 'waveglow/best/LJ001-0004.npy'\n",
    "with open(file_name, 'rb') as f:\n",
    "    alpha = np.load(f)\n",
    "    \n",
    "alpha_norm = alpha #/ np.sum(alpha, axis=1, keepdims=True)\n",
    "\n",
    "fig = plt.figure(figsize=(24,96))\n",
    "plt.title('Best Map: ' + file_name)\n",
    "plt.ylabel('t - mel frames')\n",
    "plt.xlabel('State - input characters')\n",
    "plt.minorticks_on()\n",
    "plt.imshow(alpha_norm, cmap='hot', interpolation='nearest')\n",
    "plt.show()"
   ]
  }
 ],
 "metadata": {
  "kernelspec": {
   "display_name": "Python 3",
   "language": "python",
   "name": "python3"
  },
  "language_info": {
   "codemirror_mode": {
    "name": "ipython",
    "version": 3
   },
   "file_extension": ".py",
   "mimetype": "text/x-python",
   "name": "python",
   "nbconvert_exporter": "python",
   "pygments_lexer": "ipython3",
   "version": "3.5.3"
  }
 },
 "nbformat": 4,
 "nbformat_minor": 2
}
